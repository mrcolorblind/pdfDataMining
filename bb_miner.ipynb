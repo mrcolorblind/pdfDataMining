{
 "cells": [
  {
   "cell_type": "code",
   "execution_count": 1,
   "metadata": {},
   "outputs": [],
   "source": [
    "from pdf2image import convert_from_path\n",
    "import PyPDF2 \n",
    "import textract\n",
    "import nltk\n",
    "from nltk.tokenize import word_tokenize\n",
    "from nltk.corpus import stopwords\n",
    "import pdftotext\n",
    "from tkinter import *\n",
    "from tkinter import filedialog\n",
    "from PIL import ImageTk, Image\n",
    "import re"
   ]
  },
  {
   "cell_type": "code",
   "execution_count": null,
   "metadata": {},
   "outputs": [],
   "source": [
    "root = Tk()\n",
    "root.title(\"Minerador - Boletos BB\")\n",
    "root.minsize(500,500)\n",
    "root.filename = filedialog.askopenfilename(initialdir = \"../../\", title = \"Escolha o arquivo:\", filetypes=((\"Arquivos PDF\", \"*.pdf\"),))"
   ]
  },
  {
   "cell_type": "code",
   "execution_count": 22,
   "metadata": {},
   "outputs": [],
   "source": [
    "filename = \"../data/samples/boletos_bb/11.pdf\"\n",
    "# filnemae = root.filename\n",
    "# Load your PDF\n",
    "with open(filename, \"rb\") as f:\n",
    "    pdf = pdftotext.PDF(f)\n",
    "text = (\"\".join(pdf))\n",
    "lines = text.splitlines()"
   ]
  },
  {
   "cell_type": "code",
   "execution_count": 23,
   "metadata": {},
   "outputs": [],
   "source": [
    "#The word_tokenize() function will break our text phrases into #individual words\n",
    "tokens = word_tokenize(text)\n",
    "#we'll create a new list which contains punctuation we wish to clean\n",
    "punctuations = ['(',')',';','[',']',':',',','.','-','--']\n",
    "#We initialize the stopwords variable which is a list of words like #\"The\", \"I\", \"and\", etc. that don't hold much value as keywords\n",
    "stop_words = stopwords.words('portuguese')\n",
    "#We create a list comprehension which only returns a list of words #that are NOT IN stop_words and NOT IN punctuations.\n",
    "keywords = [word for word in tokens if not word.lower() in stop_words and not word in punctuations]"
   ]
  },
  {
   "cell_type": "code",
   "execution_count": 24,
   "metadata": {},
   "outputs": [],
   "source": [
    "for i in range(3, len(keywords)):\n",
    "    if (keywords[i-1].lower() == 'pagamento' and keywords[i-2].lower() == 'data'):\n",
    "        data = keywords[i]\n",
    "    if (keywords[i-1].lower() == \"convenio\"):\n",
    "        cliente = ''\n",
    "        j = 0\n",
    "        while(1):\n",
    "            cliente = cliente + \" \" + (keywords[i+j])\n",
    "            j+=1\n",
    "            if (keywords[i+j].lower() == 'codigo' or j > 5):\n",
    "                break\n",
    "    if (keywords[i-1].lower() == \"fantasia\" and keywords[i-2].lower() == 'nome'):\n",
    "        cliente = ''\n",
    "        j = 0\n",
    "        while(1):\n",
    "            cliente = cliente + \" \" + (keywords[i+j])\n",
    "            j+=1\n",
    "            if (keywords[i+j].lower() == 'cnpj' or j > 5):\n",
    "                break\n",
    "    if (keywords[i-1].lower() == 'agencia'):\n",
    "        agencia = keywords[i]\n",
    "    if (keywords[i-1].lower() == 'conta'):\n",
    "        conta = keywords[i]\n",
    "    if (keywords[i-2].lower() == 'valor'):\n",
    "        valor = keywords[i]\n",
    "\n",
    "fileLastName = filename.split(\"/\")[-1]\n",
    "notaFiscal = re.findall(r\"NF\\d+|nf\\d+|\\d+\", fileLastName)"
   ]
  },
  {
   "cell_type": "code",
   "execution_count": 27,
   "metadata": {},
   "outputs": [],
   "source": [
    "result = \"Extrato bancario;\"+data+\";\"+valor+\";2059;1174;VR PAGO REF FORNECEDOR\"+cliente+\" NF \"+notaFiscal[-1]"
   ]
  },
  {
   "cell_type": "code",
   "execution_count": 26,
   "metadata": {},
   "outputs": [
    {
     "data": {
      "text/plain": [
       "'Extrato bancario;16/09/2019;61,64;2059;1174;VR RECEBIDO REF CLIENTE CLARO BA / / MG NF 11'"
      ]
     },
     "execution_count": 26,
     "metadata": {},
     "output_type": "execute_result"
    }
   ],
   "source": [
    "result"
   ]
  }
 ],
 "metadata": {
  "kernelspec": {
   "display_name": "Python 3",
   "language": "python",
   "name": "python3"
  },
  "language_info": {
   "codemirror_mode": {
    "name": "ipython",
    "version": 3
   },
   "file_extension": ".py",
   "mimetype": "text/x-python",
   "name": "python",
   "nbconvert_exporter": "python",
   "pygments_lexer": "ipython3",
   "version": "3.7.3"
  }
 },
 "nbformat": 4,
 "nbformat_minor": 2
}
